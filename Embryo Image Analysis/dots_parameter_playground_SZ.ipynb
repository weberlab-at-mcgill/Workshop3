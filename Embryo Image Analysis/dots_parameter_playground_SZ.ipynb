{
 "cells": [
  {
   "cell_type": "markdown",
   "metadata": {
    "id": "dw7tZR9U-Z2U"
   },
   "source": [
    "# Dots Parameter Playground\n",
    "\n",
    "*This notebook is referred to as **Version 2** in other notebooks.*\n",
    "\n",
    "This notebook is adapted from *Allen Cell Structure Segmenter* for segmentation of dot-like structures.\n",
    "The purpose of this playground is to find the most appropriate parameters for a specific dataset to be segmented.\n",
    "\n",
    "\n",
    "Key steps of the workflows:\n",
    "\n",
    "* Min-max intensity normalization\n",
    "* 2D Gaussian smoothing (slice-by-slice)\n",
    "* 3D spot filter to detect dots\n",
    "* Watershed for seperating falsely merged dots\n",
    "\n",
    "J. Chen, L. Ding, M.P. Viana, M.C. Hendershott, R. Yang, I.A. Mueller, S.M. Rafelski. The Allen Cell Structure Segmenter: a new open source toolkit for segmenting 3D intracellular structures in fluorescence microscopy images. bioRxiv. 2018 Jan 1:491035.\n",
    "\n",
    "<span style='color:red'> **1. Follow the red instruction lines through this notebook. Run the following two cells** </span>"
   ]
  },
  {
   "cell_type": "code",
   "execution_count": null,
   "metadata": {
    "id": "uq1bwdsa-Z2W"
   },
   "outputs": [],
   "source": [
    "import numpy as np\n",
    "import scipy\n",
    "import skimage\n",
    "import skimage.io\n",
    "import nbimporter\n",
    "#import Functions\n",
    "\n",
    "# package for 3d visualization\n",
    "from itkwidgets import view                              \n",
    "from aicssegmentation.core.visual import seg_fluo_side_by_side,  single_fluorescent_view, segmentation_quick_view\n",
    "import matplotlib.pyplot as plt\n",
    "plt.rcParams[\"figure.figsize\"] = [16, 12]\n",
    "\n",
    "# package for io \n",
    "from aicsimageio import AICSImage\n",
    "from aicsimageio.writers import OmeTiffWriter\n",
    "\n",
    "# function for core algorithm\n",
    "from aicssegmentation.core.seg_dot import dot_3d, dot_3d_wrapper \n",
    "from aicssegmentation.core.pre_processing_utils import intensity_normalization, image_smoothing_gaussian_slice_by_slice\n",
    "from skimage.morphology import remove_small_objects, watershed, dilation, erosion, ball, label     # function for post-processing (size filter)\n",
    "from skimage.feature import peak_local_max\n",
    "from skimage.measure import label, regionprops, find_contours \n",
    "from scipy.ndimage import distance_transform_edt\n",
    "from scipy import ndimage"
   ]
  },
  {
   "cell_type": "code",
   "execution_count": null,
   "metadata": {},
   "outputs": [],
   "source": [
    "def ConvertToHyperstack(FILE_NAME, nbChannels, nbZplanes):\n",
    "    \n",
    "    raw_im = skimage.io.imread(FILE_NAME)\n",
    "    \n",
    "    # Find and parse dimensions of input image\n",
    "    dims = raw_im.shape\n",
    "\n",
    "    if len(dims) != 3:\n",
    "        raise RuntimeError(f\"Expected 3 dimensions, found {len(dims)}\")\n",
    "\n",
    "    x = dims[2]\n",
    "    y = dims[1]\n",
    "    zt = dims[0]\n",
    "\n",
    "    # Calculate number of t frames (assume input image can have any number of time frames)\n",
    "    t = int(zt/(nbZplanes*nbChannels))\n",
    "\n",
    "    # Reshape to TZYXC\n",
    "    im2 = raw_im.reshape((nbChannels,nbZplanes,t,y,x), order='F')\n",
    "    # Move indices from CZTYX to TCZYX to match AICS format\n",
    "    IMG = np.moveaxis(im2, [0, 1, 2, 3, 4], [1, 2, 0, 3, 4] )\n",
    "    #IMG = np.moveaxis(im2, [0, 1, 2, 3, 4], [0, 2, 3, 4, 1])\n",
    "\n",
    "    \n",
    "    # Change type from uint16 to float32\n",
    "    IMG = IMG.astype(np.float32)\n",
    "    \n",
    "    return IMG"
   ]
  },
  {
   "cell_type": "markdown",
   "metadata": {
    "id": "8f2DstDc-Z2X"
   },
   "source": [
    "## Loading the data\n",
    "<span style='color:red'> **2. Change the variable `FILE_NAME`to the directory of one of the raw timelapse files.** </span>\n",
    "\n",
    "<span style='color:red'> **3. Run the next two cells** </span>"
   ]
  },
  {
   "cell_type": "code",
   "execution_count": null,
   "metadata": {},
   "outputs": [],
   "source": [
    "FILE_NAME = 'E:\\\\Weber Lab\\\\Practice Coding\\\\seg_batch_input\\\\42h_RNAi L4440 #2_WLW32_Timelapse_Bottom Half Embryo_25 planes_35 sec interval_Always alternate GFP, RFP_November 18 2022.tif'\n",
    "\n",
    "IMG = ConvertToHyperstack(FILE_NAME, 2, 25)\n",
    "print(IMG.shape) #(max nb of time pts, nb of channels, nb of planes, x, y)"
   ]
  },
  {
   "cell_type": "code",
   "execution_count": null,
   "metadata": {},
   "outputs": [],
   "source": [
    "# Check input image\n",
    "import matplotlib.pyplot as plt\n",
    "plt.imshow(IMG[20,0,20,:,:])"
   ]
  },
  {
   "cell_type": "markdown",
   "metadata": {
    "id": "x0aaB4k0-Z2Y"
   },
   "source": [
    "<span style='color:red'> **4. Input the desired time point for analysis in place of `t1`, `t2` and `t3` and run all three cells** </span>\n",
    "\n",
    "The timelapse file is made up of 3D stacks of an embryo over time. To select a specifc stack (timepoint) within the timelapse,\n",
    "choose any three numbers between 0 and the max number of timepoints found two cells above."
   ]
  },
  {
   "cell_type": "code",
   "execution_count": null,
   "metadata": {
    "colab": {
     "referenced_widgets": [
      "da389dfa2c3a44b8940adf1e8e0a4f69"
     ]
    },
    "id": "NeCgTvMo-Z2Z",
    "outputId": "78a7cf91-4d29-436b-9112-dc21363119e5"
   },
   "outputs": [],
   "source": [
    "#####################\n",
    "t1 = 15\n",
    "structure_channel = 0\n",
    "#####################\n",
    "\n",
    "# first time frame for parameter search\n",
    "struct_img1 = IMG[t1,structure_channel,:,:,:].copy()\n",
    "view(single_fluorescent_view(struct_img1))"
   ]
  },
  {
   "cell_type": "code",
   "execution_count": null,
   "metadata": {
    "colab": {
     "referenced_widgets": [
      "d2042edc6786426e8f9cfa46048cf506"
     ]
    },
    "id": "JZvgeYCf-Z2a",
    "outputId": "97df77cf-9c89-47ad-96c7-04597e80c1e6"
   },
   "outputs": [],
   "source": [
    "t2 = 20\n",
    "\n",
    "# second time frame for parameter search\n",
    "struct_img2 = IMG[t2,structure_channel,:,:,:].copy()\n",
    "view(single_fluorescent_view(struct_img2))"
   ]
  },
  {
   "cell_type": "code",
   "execution_count": null,
   "metadata": {
    "colab": {
     "referenced_widgets": [
      "ba7ca4739f294fb9ac63948821f0058b"
     ]
    },
    "id": "40w4FTkO-Z2b",
    "outputId": "5a5012ff-6be2-4f24-c50a-53efa86777bc"
   },
   "outputs": [],
   "source": [
    "t3 = 25\n",
    "# third time frame for parameter search\n",
    "struct_img3 = IMG[t3,structure_channel,:,:,:].copy()\n",
    "view(single_fluorescent_view(struct_img3))"
   ]
  },
  {
   "cell_type": "markdown",
   "metadata": {
    "id": "5Ea0PWc--Z2b"
   },
   "source": [
    "## Image segmentation"
   ]
  },
  {
   "cell_type": "markdown",
   "metadata": {
    "id": "Ahl92G-q-Z2c"
   },
   "source": [
    "### Step 1: Pre-Processing\n",
    "\n",
    "About selected algorithms and tuned parameters\n",
    "\n",
    "* **Intensity normalization**: Parameter `intensity_scaling_param` has two options: two values, say `[A, B]`, or single value, say `[K]`. For the first case, `A` and `B` are non-negative values indicating that the full intensity range of the stack will first be cut-off into **[mean - A * std, mean + B * std]** and then rescaled to **[0, 1]**. The smaller the values of `A` and `B` are, the higher the contrast will be. For the second case, `K`>0 indicates min-max Normalization with an absolute intensity upper bound `K` (i.e., anything above `K` will be chopped off and reset as the minimum intensity of the stack) and `K`=0 means min-max Normalization without any intensity bound.\n",
    "\n",
    "    * Parameter for Centrin-2:  `intensity_scaling_param = [8000]`\n",
    "    * Parameter for Desmoplakin:  `intensity_scaling_param = [8000]`\n",
    "    * Parameter for PMP34:  `intensity_scaling_param = [6000]`\n",
    "\n",
    "These three all use Min-Max Normalization, just with slightly different absolute intensity upper bound. Using Min-Max normalization is meant to keep the full intensity profile near the brightest area, usually the center of the \"balls\" as in these structures. Such bright centers are important for the success of these workflows. Meanwhile, adding an absolute intensity upper bound is meant to be robust to imaging artifacts, like dead pixels. If there is one dead pixel in an image stack with extremely high intensity (way out of normal intensity range), the Min-Max normalization will squeeze the value of actual structures into a tiny range close to 0. So, we add an upper bound. For example, in Centrin-2, if a pixel has intensity value over 8000, this pixel will be treated as an outlier and reset as the minimum intensity of the stack. \n",
    "\n",
    "* **Smoothing** \n",
    "\n",
    "These three all use 2D gaussian smoothing with `gaussian_smoothing_sigma = 1`. Usually, 3D gaussian is used by default. But, here we apply 2D gaussian slice by slice, because when we do live imaging, these \"ball\"-shape structures could move visible amount (considering these \"balls\" themselves are tiny) during the time interval between two consecutive z slices. So, 3D guassian smoothing may further aggravate the subtle shift in consecutive z-slices. If your data do not have such problem, you can certainly try 3D gaussian by `image_smoothing_gaussian_3d(struct_img, sigma=gaussian_smoothing_sigma)` with `gaussian_smoothing_sigma = 1`. To deal with very noisy data, you may consider increase `gaussian_smoothing_sigma` from 1 to a higher value, like 1.5 or 2."
   ]
  },
  {
   "cell_type": "markdown",
   "metadata": {
    "id": "kNiDfpRZ-Z2d"
   },
   "source": [
    "<span style='color:red'> **5. Adjust `intensity_scaling_param` and `gaussian_smoothing_sigma` and run all 4 cells** <span>"
   ]
  },
  {
   "cell_type": "code",
   "execution_count": null,
   "metadata": {
    "id": "KjyY9IuY-Z2e"
   },
   "outputs": [],
   "source": [
    "################################\n",
    "intensity_scaling_param = [1,15]\n",
    "gaussian_smoothing_sigma = 1\n",
    "################################\n",
    "\n",
    "# intensity normalization\n",
    "struct_imgA = intensity_normalization(struct_img1.copy(), scaling_param=intensity_scaling_param)\n",
    "struct_imgB = intensity_normalization(struct_img2.copy(), scaling_param=intensity_scaling_param)\n",
    "struct_imgC = intensity_normalization(struct_img3.copy(), scaling_param=intensity_scaling_param)\n",
    "\n",
    "# smoothing with gaussian filter\n",
    "structure_img_smoothA = image_smoothing_gaussian_slice_by_slice(struct_imgA.copy(), sigma=gaussian_smoothing_sigma)\n",
    "structure_img_smoothB = image_smoothing_gaussian_slice_by_slice(struct_imgB.copy(), sigma=gaussian_smoothing_sigma)\n",
    "structure_img_smoothC = image_smoothing_gaussian_slice_by_slice(struct_imgC.copy(), sigma=gaussian_smoothing_sigma)"
   ]
  },
  {
   "cell_type": "code",
   "execution_count": null,
   "metadata": {
    "colab": {
     "referenced_widgets": [
      "a38ea86a22784bb3a5984f7a6a6e9d66"
     ]
    },
    "id": "hxaUEoRc-Z2e",
    "outputId": "ce58b97a-b80d-477b-99d6-49344f52fa77"
   },
   "outputs": [],
   "source": [
    "# view the first image after smoothing\n",
    "view(single_fluorescent_view(structure_img_smoothA))"
   ]
  },
  {
   "cell_type": "code",
   "execution_count": null,
   "metadata": {
    "colab": {
     "referenced_widgets": [
      "9ae39a44f20e417bb9eeb81bfa82020b"
     ]
    },
    "id": "KsGi_jwp-Z2f",
    "outputId": "4e2d6b30-3556-4da1-8b45-7f6d426d4b89"
   },
   "outputs": [],
   "source": [
    "# view the second image after smoothing\n",
    "view(single_fluorescent_view(structure_img_smoothB))"
   ]
  },
  {
   "cell_type": "code",
   "execution_count": null,
   "metadata": {
    "id": "Q-lEBNOD-Z2f"
   },
   "outputs": [],
   "source": [
    "# view the third image after smoothing\n",
    "view(single_fluorescent_view(structure_img_smoothC))"
   ]
  },
  {
   "cell_type": "markdown",
   "metadata": {
    "id": "yLs6tHZb-Z2g"
   },
   "source": [
    "### Step 2: Core Algorithm"
   ]
  },
  {
   "cell_type": "markdown",
   "metadata": {
    "id": "RB4jeaTa-Z2g"
   },
   "source": [
    "#### step 2.1: Apply 3D Spot filter (S3)\n",
    "\n",
    "* Parameter syntax: `[[scale_1, cutoff_1], [scale_2, cutoff_2], ....]` \n",
    "    * `scale_x` is set based on the estimated radius of your target dots. For example, if visually the diameter of the dots is usually 3~4 pixels, then you may want to set `scale_x` as `1` or something near `1` (like `1.25`). Multiple scales can be used, if you have dots of very different sizes.  \n",
    "    * `cutoff_x` is a threshold applied on the actual filter reponse to get the binary result. Smaller `cutoff_x` may yielf more dots and fatter segmentation, while larger `cutoff_x` could be less permisive and yield less dots and slimmer segmentation. \n",
    "\n",
    "* Parameter for Centrin-2:  `s3_param = [[1, 0.04]]`\n",
    "\n",
    "* Parameter for Desmoplakin:  `s3_param = [[1, 0.012]]`\n",
    "\n",
    "* Parameter for PMP34:  `s3_param = [[1,0.03]]`\n"
   ]
  },
  {
   "cell_type": "markdown",
   "metadata": {
    "id": "WGnza-Lj-Z2g"
   },
   "source": [
    "<span style='color:red'> **6. Adjust `s3_param` as necessary and run all 4 cells** </span>"
   ]
  },
  {
   "cell_type": "code",
   "execution_count": null,
   "metadata": {
    "id": "JuxLpZph-Z2g"
   },
   "outputs": [],
   "source": [
    "################################\n",
    "## PARAMETERS for this step ##\n",
    "s3_param = [[0.9, 0.09]]\n",
    "################################\n",
    "\n",
    "bwA = dot_3d_wrapper(structure_img_smoothA.copy(), s3_param)\n",
    "bwB = dot_3d_wrapper(structure_img_smoothB.copy(), s3_param)\n",
    "bwC = dot_3d_wrapper(structure_img_smoothC.copy(), s3_param)"
   ]
  },
  {
   "cell_type": "code",
   "execution_count": null,
   "metadata": {
    "colab": {
     "referenced_widgets": [
      "94d987a0ada54aa296be16eeb47adc5c"
     ]
    },
    "id": "LDVe45UW-Z2h",
    "outputId": "5581346b-680f-4870-83f0-6fc817dc9a40"
   },
   "outputs": [],
   "source": [
    "# view the first segmentation result\n",
    "view(seg_fluo_side_by_side(structure_img_smoothA,bwA,roi=['Full']))"
   ]
  },
  {
   "cell_type": "code",
   "execution_count": null,
   "metadata": {
    "colab": {
     "referenced_widgets": [
      "44285360b8d44fde89b9210b28338301"
     ]
    },
    "id": "YthYJmG--Z2h",
    "outputId": "33c46567-9e92-4533-b32e-a3cf53a8ab86"
   },
   "outputs": [],
   "source": [
    "# view the second segmentation result\n",
    "view(seg_fluo_side_by_side(structure_img_smoothB,bwB,roi=['Full']))"
   ]
  },
  {
   "cell_type": "code",
   "execution_count": null,
   "metadata": {
    "id": "G8xrNHxV-Z2h"
   },
   "outputs": [],
   "source": [
    "# view the third segmentation result\n",
    "view(seg_fluo_side_by_side(structure_img_smoothC,bwC,roi=['Full']))"
   ]
  },
  {
   "cell_type": "markdown",
   "metadata": {
    "id": "VjdZ-lAL-Z2i"
   },
   "source": [
    "##### Is the segmentation satisfactory? Here are some possible criteria:\n",
    "\n",
    "--------------------------\n",
    "* Note: next step (2.2) can further cut falsely merged spots.\n",
    "* Is there any spot should be detected but not? Try to reduce `cutoff_x`\n",
    "* Is there any spot should not be detected but actually appear in the result? Try to increase `cutoff_x` or try a larger `scale_x`\n",
    "* Is the segmented size of the spots fatter than it should be? Try to increase `cutoff_x` or try a smaller `scale_x`\n",
    "* Is there any spot that should be solid but segmented as a ring? Try to increase `scale_x`\n",
    "* Are you observing spots with very different sizes? Try multiple sets of `scale_x` and `cutoff_x` \n",
    "--------------------------\n",
    "\n",
    "#### If the results are satisfactory, go to Step 2.2 directly; otherwise, try to tweak the parameters based on the above suggestions. \n",
    "\n",
    "Assumption: the segmentation result is saved in a variable named `bw`."
   ]
  },
  {
   "cell_type": "markdown",
   "metadata": {
    "id": "BL29DaJn-Z2i"
   },
   "source": [
    "#### Step 2.2: Watershed for cutting falsely merged spots\n",
    "\n",
    "This step may take 2~3 minutes or longer, depending on the number of dots in your images. \n",
    "\n",
    "In general, no parameter tuning is needed in this step. The only parameter is `minArea=4`, which is the parameter for size thresholding in post-processing. In practice, when we know an object whose size is smaller than `minArea` will be removed eventually, we can just remove them before doing watershed to cut falsely merged cells. This is only meant to avoid unnecessary computation. "
   ]
  },
  {
   "cell_type": "markdown",
   "metadata": {
    "id": "YWAhr6IO-Z2i"
   },
   "source": [
    "<span style='color:red'> **Leave the cell below as is unless the WATERSHED function is desired** </span>"
   ]
  },
  {
   "cell_type": "code",
   "execution_count": null,
   "metadata": {
    "id": "51kzKPdl-Z2j",
    "outputId": "cef01ced-3c55-49fe-8c19-b6ff2b417a8c"
   },
   "outputs": [],
   "source": [
    "# watershed\n",
    "#minArea = 4\n",
    "#Mask = remove_small_objects(bwA>0, min_size=minArea, connectivity=1, in_place=False) \n",
    "#Seed = dilation(peak_local_max(struct_imgA,labels=label(Mask), min_distance=2, indices=False), selem=ball(1))\n",
    "#Watershed_Map = -1*distance_transform_edt(bwA)\n",
    "#seg = watershed(Watershed_Map, label(Seed), mask=Mask, watershed_line=True)"
   ]
  },
  {
   "cell_type": "markdown",
   "metadata": {
    "id": "Sa0q8iiE-Z2j"
   },
   "source": [
    "#### Step 3: Post-Processing "
   ]
  },
  {
   "cell_type": "markdown",
   "metadata": {
    "id": "9oKGOWJ0-Z2j"
   },
   "source": [
    "<span style='color:red'> **7. Designate the `minArea` size for segmented dot-like structures and run all 4 cells** </span>\n",
    "\n",
    "(all structures < `minArea` will be removed)"
   ]
  },
  {
   "cell_type": "code",
   "execution_count": null,
   "metadata": {
    "id": "aClOj4jm-Z2j"
   },
   "outputs": [],
   "source": [
    "################################\n",
    "## PARAMETERS for this step ##\n",
    "minArea = 8\n",
    "################################\n",
    "\n",
    "segA = remove_small_objects(bwA.copy()>0, min_size=minArea, connectivity=1, in_place=False)\n",
    "segB = remove_small_objects(bwB.copy()>0, min_size=minArea, connectivity=1, in_place=False)\n",
    "segC = remove_small_objects(bwC.copy()>0, min_size=minArea, connectivity=1, in_place=False)"
   ]
  },
  {
   "cell_type": "code",
   "execution_count": null,
   "metadata": {
    "colab": {
     "referenced_widgets": [
      "81a7a72e683a48aaaf85c22796708103"
     ]
    },
    "id": "7sn-LCj9-Z2k",
    "outputId": "71335302-5bfa-4441-ff66-61ccd58e92b9"
   },
   "outputs": [],
   "source": [
    "# view the first post-processing result\n",
    "view(seg_fluo_side_by_side(bwA, segA, roi=['Full']))"
   ]
  },
  {
   "cell_type": "code",
   "execution_count": null,
   "metadata": {
    "colab": {
     "referenced_widgets": [
      "54fb9d2c1e994da18c80df86bed897c5"
     ]
    },
    "id": "NimPr26F-Z2k",
    "outputId": "78e50951-598a-4ac6-a1d1-fe96580506e4"
   },
   "outputs": [],
   "source": [
    "# view the second post-processing result\n",
    "view(seg_fluo_side_by_side(bwB, segB, roi=['Full']))"
   ]
  },
  {
   "cell_type": "code",
   "execution_count": null,
   "metadata": {
    "id": "5bTtDAtI-Z2k"
   },
   "outputs": [],
   "source": [
    "# view the third post-processing result\n",
    "view(seg_fluo_side_by_side(bwC, segC, roi=['Full']))"
   ]
  },
  {
   "cell_type": "markdown",
   "metadata": {
    "id": "2rnbQbxm-Z2l"
   },
   "source": [
    "##  Result Inspection - Side-by-side followed by overlay\n",
    "\n",
    "<span style='color:red'> **8. Visualize the side-by-side of the final segmented with the raw image for each \n",
    "    timepoint. Run the next 3 cells** </span>"
   ]
  },
  {
   "cell_type": "code",
   "execution_count": null,
   "metadata": {
    "colab": {
     "referenced_widgets": [
      "ed822f0bf2944e30a7a3bb48a377e29f"
     ]
    },
    "id": "uz8UNQr2-Z2l",
    "outputId": "78067d22-2c5a-4f7b-c8ea-ce43d3258319"
   },
   "outputs": [],
   "source": [
    "# first side-by-side result\n",
    "view(seg_fluo_side_by_side(struct_img1, segA, roi=['Full']))"
   ]
  },
  {
   "cell_type": "code",
   "execution_count": null,
   "metadata": {
    "colab": {
     "referenced_widgets": [
      "99bd90e22f9546b697a8901e44443e07"
     ]
    },
    "id": "NT_jAybG-Z2l",
    "outputId": "58fe5ca8-03d7-408f-c1e9-399dd9e9bc52"
   },
   "outputs": [],
   "source": [
    "# second side-by-side result\n",
    "view(seg_fluo_side_by_side(struct_img2, segB, roi=['Full']))"
   ]
  },
  {
   "cell_type": "code",
   "execution_count": null,
   "metadata": {
    "id": "vkPVark5-Z2l"
   },
   "outputs": [],
   "source": [
    "# third side-by-side result\n",
    "view(seg_fluo_side_by_side(struct_img3, segC, roi=['Full']))"
   ]
  },
  {
   "cell_type": "markdown",
   "metadata": {},
   "source": [
    "<span style='color:red'> **9. Visualize the overlay of the segmentation onto the raw image for a given slice in the stack. Change the variables `s1`, `s2` and `s3` to any number between 0 and 24 and run the next 4 cells** </span>"
   ]
  },
  {
   "cell_type": "code",
   "execution_count": null,
   "metadata": {},
   "outputs": [],
   "source": [
    "#Overlay\n",
    "rawA = struct_img1.copy()\n",
    "rawB = struct_img2.copy()\n",
    "rawC = struct_img3.copy()\n",
    "\n",
    "for slice in range(segA.shape[0]):\n",
    "    contoursApos = skimage.measure.find_contours(segA[slice,:,:]) #Finds positions where a contour lies of single slice of stack\n",
    "    contoursBpos = skimage.measure.find_contours(segB[slice,:,:])\n",
    "    contoursCpos = skimage.measure.find_contours(segC[slice,:,:])\n",
    "    #print(contoursApos)\n",
    "    #For each position found above, I want to change the pixel value to 0 in raw img \n",
    "    for objectA in contoursApos:\n",
    "        for coordA in objectA:\n",
    "            rawA[slice,int(coordA[0]), int(coordA[1])] = 255\n",
    "    for objectB in contoursBpos:\n",
    "        for coordB in objectB:\n",
    "            rawB[slice,int(coordB[0]), int(coordB[1])] = 255\n",
    "    for objectC in contoursCpos:\n",
    "        for coordC in objectC:\n",
    "            rawC[slice,int(coordC[0]), int(coordC[1])] = 255\n",
    "    "
   ]
  },
  {
   "cell_type": "code",
   "execution_count": null,
   "metadata": {},
   "outputs": [],
   "source": [
    "# first result \n",
    "s1 = 18 #slice number in the 3D stack\n",
    "plt.imshow(rawA[s1,:,:])"
   ]
  },
  {
   "cell_type": "code",
   "execution_count": null,
   "metadata": {},
   "outputs": [],
   "source": [
    "# second result\n",
    "s2 = 18\n",
    "plt.imshow(rawB[s2,:,:])"
   ]
  },
  {
   "cell_type": "code",
   "execution_count": null,
   "metadata": {},
   "outputs": [],
   "source": [
    "# third result\n",
    "s3 = 18\n",
    "plt.imshow(rawC[s3,:,:])"
   ]
  },
  {
   "cell_type": "markdown",
   "metadata": {
    "id": "zK_qog8w-Z2m"
   },
   "source": [
    "### You may also physically save the segmentation results into a .tiff image\n",
    "<span style='color:red'> **6. Name the output file and specify the output folder under `OmeTiffWriter`, and specify which `seg` file should be used for output** </span>\n"
   ]
  },
  {
   "cell_type": "code",
   "execution_count": null,
   "metadata": {
    "id": "4Xa7njM8-Z2m"
   },
   "outputs": [],
   "source": [
    "segC = segC > 0\n",
    "out=segC.astype(np.uint8)\n",
    "out[out>0]=255\n",
    "writer = OmeTiffWriter()\n",
    "writer.save(out,'E:\\\\Weber Lab\\\\Imaging WLW32\\\\February 18, 2022\\\\Segmented\\\\Seg_TIME_32_43h_RNAi sun-1_WLW32_Timelapse_Bottom Half Embryo_20 planes_30 sec interval_Always alternate GFP, RFP_February 18 2021.ome.tiff')"
   ]
  },
  {
   "cell_type": "code",
   "execution_count": null,
   "metadata": {},
   "outputs": [],
   "source": [
    "labelA = skimage.morphology.label(segA)\n",
    "labelB = skimage.morphology.label(segB)\n",
    "labelC = skimage.morphology.label(segC)\n",
    "#labelC = skimage.morphology.label(segC, return_num=True)\n",
    "#skimage.morphology.label(segA, return_num=True)"
   ]
  },
  {
   "cell_type": "code",
   "execution_count": null,
   "metadata": {},
   "outputs": [],
   "source": [
    "out=labelA.astype(np.uint8)\n",
    "writer = OmeTiffWriter()\n",
    "writer.save(out,'E:\\\\Weber Lab\\\\Imaging WLW32\\\\43h_RNAi sun-1_WLW32_Timelapse_Bottom Half Embryo_20 planes_30 sec interval_Always alternate GFP, RFP_February 18 202101.tiff')"
   ]
  },
  {
   "cell_type": "code",
   "execution_count": null,
   "metadata": {},
   "outputs": [],
   "source": [
    "#view(single_fluorescent_view(labelA))\n",
    "#print(labelA.max())\n",
    "scipy.ndimage.find_objects(labelA)"
   ]
  },
  {
   "cell_type": "code",
   "execution_count": null,
   "metadata": {},
   "outputs": [],
   "source": [
    "view(single_fluorescent_view(labelB))\n",
    "#print(labelB.max())"
   ]
  },
  {
   "cell_type": "code",
   "execution_count": null,
   "metadata": {},
   "outputs": [],
   "source": [
    "view(single_fluorescent_view(labelC))\n",
    "#print(labelB.max())"
   ]
  }
 ],
 "metadata": {
  "colab": {
   "name": "dots_parameter_playground.ipynb",
   "provenance": []
  },
  "kernelspec": {
   "display_name": "Python 3 (ipykernel)",
   "language": "python",
   "name": "python3"
  },
  "language_info": {
   "codemirror_mode": {
    "name": "ipython",
    "version": 3
   },
   "file_extension": ".py",
   "mimetype": "text/x-python",
   "name": "python",
   "nbconvert_exporter": "python",
   "pygments_lexer": "ipython3",
   "version": "3.7.11"
  }
 },
 "nbformat": 4,
 "nbformat_minor": 1
}
